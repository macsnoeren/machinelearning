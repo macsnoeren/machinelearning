{
 "cells": [
  {
   "cell_type": "markdown",
   "metadata": {},
   "source": [
    "# 6. Built artificial neural network with Keras\n",
    "_Author: Maurice Snoeren_<br>\n",
    "This notebook shows how to create a neural network using Keras. The figure below shows the network that is going to be create.\n",
    "<img src=\"./images/ann1.png\" width=\"600px\" />"
   ]
  },
  {
   "cell_type": "markdown",
   "metadata": {},
   "source": [
    "When you would like to use tensorflow and keras, you need to install tensorflow using pip install tensorflow. After you are able to import the tensorflow library."
   ]
  },
  {
   "cell_type": "code",
   "execution_count": 5,
   "metadata": {},
   "outputs": [
    {
     "name": "stdout",
     "output_type": "stream",
     "text": [
      "Num GPUs Available:  0\n"
     ]
    }
   ],
   "source": [
    "import numpy as np\n",
    "import tensorflow as tf\n",
    "from tensorflow import keras\n",
    "from tensorflow.keras.models import Sequential\n",
    "from tensorflow.keras.layers import Activation, Dense\n",
    "from tensorflow.keras.optimizers import SGD, Adam\n",
    "from tensorflow.keras.metrics import categorical_crossentropy\n",
    "print(\"Num GPUs Available: \", len(tf.config.experimental.list_physical_devices('GPU')))\n"
   ]
  },
  {
   "cell_type": "markdown",
   "metadata": {},
   "source": [
    "We would like to create the ANN as given by the figure. Containing one hidden layer and output layer. Note that all layers are fully connected."
   ]
  },
  {
   "cell_type": "code",
   "execution_count": 6,
   "metadata": {},
   "outputs": [
    {
     "name": "stdout",
     "output_type": "stream",
     "text": [
      "Model: \"sequential\"\n",
      "_________________________________________________________________\n",
      "Layer (type)                 Output Shape              Param #   \n",
      "=================================================================\n",
      "dense (Dense)                (None, 4)                 16        \n",
      "_________________________________________________________________\n",
      "dense_1 (Dense)              (None, 2)                 10        \n",
      "=================================================================\n",
      "Total params: 26\n",
      "Trainable params: 26\n",
      "Non-trainable params: 0\n",
      "_________________________________________________________________\n"
     ]
    }
   ],
   "source": [
    "# We need to create a sequential model. It takes an array of the layers of\n",
    "# the neural network.\n",
    "model = Sequential([\n",
    "    # The input layer is not really a layer, therefore the first layer that\n",
    "    # is created is the hidden layer containing 4 nodes. The input x to \n",
    "    # this layer is 3. Because of the fully connected layer, we need the\n",
    "    # class Dense. The units create the total nodes in this layer (4) and\n",
    "    # the input_shape defines the total input nodes (3).\n",
    "    Dense(units=4, input_shape=(3,), activation='sigmoid'),\n",
    "    \n",
    "    # The next layer is the output layer of two nodes. In this case, the\n",
    "    # model takes the input nodes from the previous layer.\n",
    "    Dense(units=2, activation='sigmoid'),\n",
    "])\n",
    "\n",
    "model.summary() # If we want to see how the model is configured"
   ]
  },
  {
   "cell_type": "markdown",
   "metadata": {},
   "source": [
    "This example shows that the number of params is 26. Is this correct? For the first layer we have 3x4=12 weights and 4 biases. The second layer contains 4x2=8 weights and 2 biases. All together 12+4+8+2=26. So, indeed!\n",
    "\n",
    "Use standard libraries to built your AI models instead of programming them from scratch!"
   ]
  }
 ],
 "metadata": {
  "kernelspec": {
   "display_name": "Python 3 (ipykernel)",
   "language": "python",
   "name": "python3"
  },
  "language_info": {
   "codemirror_mode": {
    "name": "ipython",
    "version": 3
   },
   "file_extension": ".py",
   "mimetype": "text/x-python",
   "name": "python",
   "nbconvert_exporter": "python",
   "pygments_lexer": "ipython3",
   "version": "3.9.12"
  }
 },
 "nbformat": 4,
 "nbformat_minor": 4
}
