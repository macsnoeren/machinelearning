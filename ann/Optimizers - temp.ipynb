{
 "cells": [
  {
   "cell_type": "markdown",
   "id": "382de826",
   "metadata": {},
   "source": [
    "https://machinelearningknowledge.ai/keras-optimizers-explained-with-examples-for-beginners/#:~:text=SGD%20optimizer%20uses%20gradient%20descent%20along%20with%20momentum.,for%20gradient%20calculation.%20Syntax%20of%20SGD%20in%20Keras"
   ]
  },
  {
   "cell_type": "code",
   "execution_count": null,
   "id": "90014a7e",
   "metadata": {},
   "outputs": [],
   "source": []
  }
 ],
 "metadata": {
  "kernelspec": {
   "display_name": "Python 3 (ipykernel)",
   "language": "python",
   "name": "python3"
  },
  "language_info": {
   "codemirror_mode": {
    "name": "ipython",
    "version": 3
   },
   "file_extension": ".py",
   "mimetype": "text/x-python",
   "name": "python",
   "nbconvert_exporter": "python",
   "pygments_lexer": "ipython3",
   "version": "3.9.12"
  }
 },
 "nbformat": 4,
 "nbformat_minor": 5
}
